{
 "cells": [
  {
   "attachments": {},
   "cell_type": "markdown",
   "metadata": {},
   "source": [
    "## Library import"
   ]
  },
  {
   "cell_type": "code",
   "execution_count": 1,
   "metadata": {},
   "outputs": [],
   "source": [
    "import numpy as np \n",
    "import pandas as pd\n",
    "import math\n",
    "import matplotlib.pyplot as plt \n",
    "import matplotlib.ticker as ticker\n",
    "import matplotlib as mlp\n",
    "from matplotlib import rcParams\n",
    "import itertools\n",
    "import matplotlib.font_manager"
   ]
  },
  {
   "attachments": {},
   "cell_type": "markdown",
   "metadata": {},
   "source": [
    "### Boltzmann, emittance, view factor"
   ]
  },
  {
   "cell_type": "code",
   "execution_count": 10,
   "metadata": {},
   "outputs": [],
   "source": [
    "epsilon = 1.0\n",
    "sigma = 5.67*10**(-8) \n",
    "alpha = 1.0\n",
    "\n",
    "Fgnd = 0.5\n",
    "Fsky = 0.5\n",
    "Fair = math.sqrt(2)/4 "
   ]
  },
  {
   "attachments": {},
   "cell_type": "markdown",
   "metadata": {},
   "source": [
    "## Excel file"
   ]
  },
  {
   "cell_type": "code",
   "execution_count": 2,
   "metadata": {},
   "outputs": [],
   "source": [
    "df_solar_data = pd.read_csv('../data/Solar data.csv')\n",
    "Tgnd = [df_solar_data[\"Ground temperature\"][i] for i in range(len(df_solar_data[\"Time\"]))]\n",
    "Tair = [df_solar_data[\"Temperature\"][i] for i in range(len(df_solar_data[\"Time\"]))] \n",
    "q_alpha = [(df_solar_data[\"Insolation\"][i])*alpha for i in range(len(df_solar_data[\"Time\"]))]"
   ]
  },
  {
   "attachments": {},
   "cell_type": "markdown",
   "metadata": {},
   "source": [
    "## Constant"
   ]
  },
  {
   "attachments": {},
   "cell_type": "markdown",
   "metadata": {},
   "source": [
    "### unit change"
   ]
  },
  {
   "cell_type": "code",
   "execution_count": 3,
   "metadata": {},
   "outputs": [],
   "source": [
    "# time unit change \n",
    "hour_to_sec = 3600\n",
    "min_to_sec = 60   "
   ]
  },
  {
   "attachments": {},
   "cell_type": "markdown",
   "metadata": {},
   "source": [
    "### set timestep, duration"
   ]
  },
  {
   "cell_type": "code",
   "execution_count": 4,
   "metadata": {},
   "outputs": [],
   "source": [
    "t = 20 # [s]   # time step\n",
    "duration = len(df_solar_data[\"Time\"])*t/hour_to_sec # [h]"
   ]
  },
  {
   "attachments": {},
   "cell_type": "markdown",
   "metadata": {},
   "source": [
    "## Dictionary"
   ]
  },
  {
   "attachments": {},
   "cell_type": "markdown",
   "metadata": {},
   "source": [
    "### set material "
   ]
  },
  {
   "cell_type": "code",
   "execution_count": 6,
   "metadata": {},
   "outputs": [],
   "source": [
    "concrete_dict =    {\"Length\"                :  0.6, # [m]\n",
    "                    \"Thermal_conductivity\"  :    2, # [W/(m*K)]\n",
    "                    \"Specific_heat\"         : 1000, # [J/(Kg*K)]\n",
    "                    \"Density\"               : 1000, # [kg/m3] \n",
    "                    \"Devide\"                :    3, # [None]\n",
    "                     } \n",
    "concrete_dict['Volumetric_heat_capcity'] = concrete_dict[\"Specific_heat\"]*concrete_dict[\"Density\"] # 체적열용량은 따로추가 직접 계산 번거로움 감소\n",
    "\n",
    "insulation_1_dict = {\"Length\"                :  0.3, # [m]\n",
    "                     \"Thermal_conductivity\"  :    2, # [W/(m*K)]\n",
    "                     \"Specific_heat\"         : 1000, # [J/(Kg*K)]\n",
    "                     \"Density\"               : 1000, # [kg/m3] \n",
    "                     \"Devide\"                :    3, # [None]\n",
    "                     } \n",
    "insulation_1_dict['Volumetric_heat_capcity'] = insulation_1_dict[\"Specific_heat\"]*insulation_1_dict[\"Density\"]\n",
    "\n",
    "insulation_2_dict = {\"Length\"                :  0.3, # [m]\n",
    "                     \"Thermal_conductivity\"  :    2, # [W/(m*K)]\n",
    "                     \"Specific_heat\"         : 1000, # [J/(Kg*K)]\n",
    "                     \"Density\"               : 1000, # [kg/m3] \n",
    "                     \"Devide\"                :    3, # [None]\n",
    "                     } \n",
    "insulation_2_dict['Volumetric_heat_capcity'] = insulation_2_dict[\"Specific_heat\"]*insulation_2_dict[\"Density\"]\n",
    "\n",
    "insulation_3_dict = {\"Length\"                :  0.3, # [m]\n",
    "                     \"Thermal_conductivity\"  :    2, # [W/(m*K)]\n",
    "                     \"Specific_heat\"         : 1000, # [J/(Kg*K)]\n",
    "                     \"Density\"               : 1000, # [kg/m3]\n",
    "                     \"Devide\"                :    3, # [None] \n",
    "                     } \n",
    "insulation_3_dict['Volumetric_heat_capcity'] = insulation_3_dict[\"Specific_heat\"]*insulation_3_dict[\"Density\"]"
   ]
  },
  {
   "attachments": {},
   "cell_type": "markdown",
   "metadata": {},
   "source": [
    "## list"
   ]
  },
  {
   "cell_type": "code",
   "execution_count": 7,
   "metadata": {},
   "outputs": [],
   "source": [
    "t_list = [t*i for i in range(int(duration*hour_to_sec/t))]"
   ]
  },
  {
   "attachments": {},
   "cell_type": "markdown",
   "metadata": {},
   "source": [
    "## Function"
   ]
  },
  {
   "cell_type": "code",
   "execution_count": 8,
   "metadata": {},
   "outputs": [],
   "source": [
    "# Degree to Kelvin  \n",
    "def D2K(val): \n",
    "    return val + 273.15 "
   ]
  },
  {
   "cell_type": "code",
   "execution_count": 9,
   "metadata": {},
   "outputs": [
    {
     "ename": "SyntaxError",
     "evalue": "expected ':' (536033692.py, line 120)",
     "output_type": "error",
     "traceback": [
      "\u001b[1;36m  Cell \u001b[1;32mIn[9], line 120\u001b[1;36m\u001b[0m\n\u001b[1;33m    for i in range(N) # node for 문\u001b[0m\n\u001b[1;37m                      ^\u001b[0m\n\u001b[1;31mSyntaxError\u001b[0m\u001b[1;31m:\u001b[0m expected ':'\n"
     ]
    }
   ],
   "source": [
    "#                               Material_dict\n",
    "def get_temp_data(M_dict1, M_dict2, M_dict3, M_dict4, M_dict5):\n",
    "\n",
    "    ## Constant\n",
    "    # --------------------------------------------------------------------------------------------\n",
    "    # 총 셀 노드 개수 변수\n",
    "    N = M_dict1[\"Divide\"] + M_dict2[\"Divide\"] + M_dict3[\"Divide\"] + M_dict4[\"Divide\"] + M_dict5[\"Divide\"]\n",
    "    # 초기온도 \n",
    "    initial_temp = D2K(20) \n",
    "    # --------------------------------------------------------------------------------------------\n",
    "    \n",
    "    ## 벽체의 열물성을 담은 리스트 정의 [list]\n",
    "    # --------------------------------------------------------------------------------------------\n",
    "    for Midx in [M_dict1, M_dict2, M_dict3, M_dict4, M_dict5]: # Material dict를 넣어줌\n",
    "    #                                                                        Divide 개수 만큼 복붙\n",
    "        del_x =                   [Midx[\"length\"]/Midx[\"Divide\"]   for _ in range(Midx[\"Divide\"])] \n",
    "        k =                       [Midx[\"Thermal_conductivity\"]    for _ in range(Midx[\"Divide\"])]\n",
    "        c =                       [Midx[\"Specific_heat\"]           for _ in range(Midx[\"Divide\"])]\n",
    "        rho =                     [Midx[\"Density\"]                 for _ in range(Midx[\"Divide\"])]\n",
    "        C =                       [Midx[\"Volumetric_heat_capcity\"] for _ in range(Midx[\"Divide\"])]\n",
    "        # x/k\n",
    "        K =                       [(Midx[\"length\"]/Midx[\"Divide\"])\n",
    "                                  /Midx[\"Thermal_conductivity\"]    for _ in range(Midx[\"Divide\"])]\n",
    "        # k/x\n",
    "        R =                       [Midx[\"Thermal_conductivity\"]\n",
    "                                  /(Midx[\"length\"]/Midx[\"Divide\"]) for _ in range(Midx[\"Divide\"])]\n",
    "    \n",
    "    # left \n",
    "    \n",
    "    del_x_left = [(del_x[i-1] + del_x[i])/2 for i in range(1,N)] # i=0일 때 i-1 정의 불가\n",
    "    del_x_left.insert(0,del_x[0]/2) # -- 위 컴프리핸션 포문에서 정의할 수 없으므로 따로 정의\n",
    "\n",
    "    R_left =     [(del_x[i-1]/2)/k[i-1]\n",
    "                 +(del_x[i]/2)/k[i]\n",
    "                 for i in range(1,N)]\n",
    "    R_left.insert(0,R[0]/2) # -- 위 컴프리핸션 포문에서 정의할 수 없으므로 따로 정의\n",
    "\n",
    "    K_left = [1/R_left[i] for i in range(N)] # R의 역수로 정의\n",
    "\n",
    "    # right\n",
    "\n",
    "    del_x_right = [(del_x[i] + del_x[i+1])/2 for i in range(N-1)] # i= N일 때 i+1 정의 불가 \n",
    "    del_x_right.append(del_x[N]/2) # -- 위 컴프리핸션 포문에서 정의할 수 없으므로 따로 정의\n",
    "\n",
    "    R_right =     [(del_x[i]/2)/k[i]\n",
    "                 +(del_x[i+1]/2)/k[i+1]\n",
    "                 for i in range(N-1)]\n",
    "    R_right.append(R[N]/2) # -- 위 컴프리핸션 포문에서 정의할 수 없으므로 따로 정의\n",
    "\n",
    "    K_right = [1/R_right[i+1] for i in range(N)] # R의 역수로 정의\n",
    "    # --------------------------------------------------------------------------------------------\n",
    "\n",
    "    # 온도 정보를 담은 행렬 [matrix]\n",
    "    # --------------------------------------------------------------------------------------------\n",
    "    T = []\n",
    "    T_left = []\n",
    "    T_right = []\n",
    "\n",
    "    # 온도 정보 전부 초기온도로 일단 담기 (해당 매트릭스를 포함하는 리스트들은 모두 T가 업데이트 됨에 따라 업데이트 해줘야함)\n",
    "    for _ in range(len(t_list)):\n",
    "\n",
    "        T.append([initial_temp for _ in range(N)])\n",
    "        T_left.append([initial_temp for _ in range(N)])\n",
    "        T_right.append([initial_temp for _ in range(N)])\n",
    "    \n",
    "    # 열전달계수, Tsol 정의 # 온도가 다 초기온도로 들어가있기 때문에 Tridigonal matrix 에서 온도를 업데이트 시키며 같이 업데이트 시켜야함\n",
    "    # --------------------------------------------------------------------------------------------  \n",
    "    # 이미 엑셀에 정해져있는 값 (T 행렬이 없음)\n",
    "    h_c =      [df_solar_data[\"h_c\"][n] for n in range(len(t_list))] \n",
    "\n",
    "    #  T가 업데이트 됨에 따라 업데이트가 필요한 값 \n",
    "    h_ground = [epsilon*sigma*Fgnd*((Tgnd[n])**4-(T[n][0])**4)\n",
    "                /(Tair[n]-T[n][0]) for n in range(len(t_list))]\n",
    "    h_air =    [epsilon*sigma*Fair*((Tair[n])**4-(T[n][0])**4)\n",
    "                /(Tair[n]-T[n][0]) for n in range(len(t_list))]\n",
    "    h_t = [h_c[n] + h_ground[n] + h_air[n] for n in range(len(t_list))]\n",
    "    T_sol = [Tair[n]+q_alpha[n]/h_t[n]-T_left[n][0] for n in range(len(t_list))] # T_left[n][0] = T_os\n",
    "\n",
    "    # q_sol (alpha)\n",
    "\n",
    "\n",
    "    ## Tridiagonal matrix\n",
    "    # --------------------------------------------------------------------------------------------\n",
    "    \n",
    "    #          | b1 c1  0  0  0 |   | T[n+1][1] |      | g1 |    \n",
    "    #          | a2 b2 c2  0  0 |   | T[n+1][2] |      | g2 |               \n",
    "    #          |  0 a3 b3 c3  0 | . | T[n+1][3] |   =  | g3 |      \n",
    "    #          |  0  0 a4 b4 c4 |   | T[n+1][4] |      | g4 |\n",
    "    #          |  0  0  0 a5 b5 |   | T[n+1][5] |      | g5 |\n",
    "\n",
    "    #                  A{matrix}  *   T{vector}     = B{vector}\n",
    "    #          특정 타임스탭에서 정의했을 때 벡터인 것이지 이것이 누적되어 결국 matrix로 나옴\n",
    "\n",
    "    # a,b,c [list]\n",
    "    a_list = [-t*K_left[i] for i in range(N)]\n",
    "    b_list = [2*del_x[i]*C[i]+t*K_left[i]+t*K_right[i] for i in range(N)]\n",
    "    c = [-t*K_right[i] for i in range(N)]\n",
    "\n",
    "    # A matrix -> 미리 알 수 있는 값\n",
    "    A = np.zeros((N, N)) # 임시로 0값을 가지는 NxN 행렬 만들기\n",
    "\n",
    "    for idx in range(N-1): # A matrix에 a,b,c 리스트 넣어주기\n",
    "\n",
    "        A[idx+1][idx] = a_list[idx+1]\n",
    "        A[idx][idx] = b_list[idx]\n",
    "        A[N-1][N-1] = b_list[N-1]\n",
    "        A[idx][idx+1] = c[idx]\n",
    "\n",
    "    A_inv = np.linalg.inv(A) # 역행렬 미리 만들어두기\n",
    "\n",
    "    # B matrix -> g 벡터들을 넣어준다 \n",
    "\n",
    "    for n in range(len(t_list)-1): # 타임스탭 for 문 \n",
    "        B = [] # 타임스탭마다 새롭게 정의해줘야함\n",
    "        # B list 정의하기 \n",
    "        for i in range(N): # node for 문\n",
    "            B.append([t*K_left[i]*T[n][i-1]+(2*del_x[i]*C[i]-t*K_left[i]-t*K_right[i])*T[n][i]]) # g_i 추가 열벡터로 표현하기 위해 [] 를 씌워줌\n",
    "        B.insert(0,[2*t*h_t[0]])        # 여기서 부터 아주 중요해짐 기존에 Tridigonal matrix에서 g_1, g_N을 그대로 참조하면 안되고 복사, 대류에 관한 것을 추가해야함\n",
    "        B.append([])                    # 그렇게 하기 위해선 Excel로 뽑아 놓았던 데이터를 참고해야함\n",
    "\n",
    "        # T[n+1] 값 구하고 업데이트 필요한 값들 업데이트 \n",
    "        for i in range(N): # node for 문 # [0] 은 T가 이중 리스트이기 때문에 리스트를 한 겹 벗겨내기 위함 \n",
    "            T[n+1][i] = np.dot(A_inv, B)[n][0] # tridiagonal matrix 에서 구한 T[n+1] 값을 다음 계산될 T[n] 리스트 값에 정의 \n",
    "        # 업데이트가 필요한 값들 업데이트\n",
    "        h_air[n+1] = epsilon*sigma*Fair*((Tair[n])**4-(T[n][0])**4)/(Tair[n]-T[n][0])\n",
    "        h_ground[n+1] = epsilon*sigma*Fgnd*((Tgnd[n])**4-(T[n][0])**4)/(Tair[n]-T[n][0])\n",
    "        h_t[n+1] = h_c[n] + h_ground[n] + h_air[n]\n",
    "        T_sol[n+1] = Tair[n+1]+q_alpha[n+1]/h_t[n+1]-T_left[n+1][0]\n",
    "        T_left[n+1][0] = T[n][0] + R_left[0]*h_t[n]*(T_sol[n]-T_left[n][0]) # ----- 표면온도를 q1 = q2를 이용해 첫 번째 노드의 온도와 흐르는 열류 q1의 정의로 계산 (T_os 는 열용량이 없으니 열을 그대로 흘려보낸다)\n",
    "                                                                                  # external |<-------------------------------->| internal\n",
    "                                                                                  #      o   o    +    +    +    +    +    +    o    o\n",
    "                                                                                  #   T_BC1 T_os  0    1    2    3    4    5   T_is  T_BC2\n",
    "                                                                                  #      ---q1---->         q1(T_BC1 to 0)\n",
    "                                                                                  #          -q2->          q2(T_os  to 0)    \n",
    "\n",
    "    \n",
    "\n"
   ]
  },
  {
   "cell_type": "code",
   "execution_count": null,
   "metadata": {},
   "outputs": [],
   "source": [
    "    # -------------------------------------------Tridiagonal matrix------------------------------------------------------------------------\n",
    "    a_list = [-t*K for i in range(N)]\n",
    "    a_list[0] = -2*t*K\n",
    "\n",
    "    b_list = [2*del_x*C + t*K + t*K for i in range(N)]\n",
    "    b_list[0] = 2*del_x*C + t*(2*K) + t*K\n",
    "    b_list[N-1] = 2*del_x*C + t*K + t*(2*K)\n",
    "\n",
    "    c_list = [-t*K for i in range(N)]\n",
    "    c_list[N-1] = -t*(2*K)\n",
    "\n",
    "    #                        [cm]\n",
    "    # external |--1-----3-----5-----7-----9--| internal space\n",
    "    #          |  +  |  +  |  +  |  +  |  +  |\n",
    "    #   (T_BC1)|  0     1     2     3     4  |(T_BC2) \n",
    "    #                     [node num]         \n",
    "\n",
    "    ## Tridiagonal matrix algorithm\n",
    "\n",
    "    #          | b1 c1  0  0  0 |   | T[n+1][1] |      | g1 |    \n",
    "    #          | a2 b2 c2  0  0 |   | T[n+1][2] |      | g2 |               \n",
    "    #          |  0 a3 b3 c3  0 | . | T[n+1][3] |   =  | g3 |      \n",
    "    #          |  0  0 a4 b4 c4 |   | T[n+1][4] |      | g4 |\n",
    "    #          |  0  0  0 a5 b5 |   | T[n+1][5] |      | g5 |\n",
    "    #\n",
    "    #                  A          *       T         =    B\n",
    "\n",
    "    # N x N 단위행렬 생성\n",
    "    A = np.identity(N)\n",
    "\n",
    "    for idx in range(N-1): \n",
    "        A[idx+1][idx] = a_list[idx+1]\n",
    "        A[idx][idx] = b_list[idx]\n",
    "        A[N-1][N-1] = b_list[N-1]\n",
    "        A[idx][idx+1] = c_list[idx]\n",
    "\n",
    "    A_inv = np.linalg.inv(A)\n",
    "\n",
    "for idx in range(N-1): \n",
    "        A[idx+1][idx] = a_list[idx+1]\n",
    "        A[idx][idx] = b_list[idx]\n",
    "        A[N-1][N-1] = b_list[N-1]\n",
    "        A[idx][idx+1] = c_list[idx]\n",
    "\n",
    "    A_inv = np.linalg.inv(A)\n",
    "                                \n",
    "    for tidx in range(t_list_num-1):\n",
    "\n",
    "        B = []\n",
    "        for nidx in range(1,N-1):\n",
    "            B.append([t*K*T[tidx][nidx-1]+(2*del_x*C - t*K - t*K)*T[tidx][nidx] + t*K*T[tidx][nidx+1]])\n",
    "        # 포문 밖에서 마지막으로 앞뒤에 추가\n",
    "        B.insert(0,[2*t*(2*K)*T_BC1[tidx]+(2*del_x*C - t*(2*K) - t*K)*T[tidx][0] + t*K*T[tidx][1]])\n",
    "        B.append([t*K*T[tidx][N-2]+(2*del_x*C - t*K - t*(2*K))*T[tidx][N-1] + 2*t*(2*K)*T_BC2[tidx]])\n",
    "        \n",
    "        for nidx in range(N): \n",
    "            T[tidx+1][nidx] = np.dot(A_inv, B)[nidx][0]\n"
   ]
  },
  {
   "cell_type": "code",
   "execution_count": 17,
   "metadata": {},
   "outputs": [
    {
     "name": "stdout",
     "output_type": "stream",
     "text": [
      "[(1,), (2,), (3,)]\n"
     ]
    }
   ],
   "source": [
    "B = [1, 2, 3]\n",
    "\n",
    "transpose_B = [B]\n",
    "\n",
    "transpose_B = list(zip(*transpose_B))\n",
    "print(transpose_B)"
   ]
  },
  {
   "cell_type": "code",
   "execution_count": 30,
   "metadata": {},
   "outputs": [
    {
     "data": {
      "text/plain": [
       "array([[6],\n",
       "       [6],\n",
       "       [6]])"
      ]
     },
     "execution_count": 30,
     "metadata": {},
     "output_type": "execute_result"
    }
   ],
   "source": [
    "A = [[1,1,1], [1,1,1], [1,1,1]]\n",
    "B = [[1],[2],[3]]\n",
    "C = np.dot(A,B)\n",
    "C"
   ]
  },
  {
   "cell_type": "code",
   "execution_count": 28,
   "metadata": {},
   "outputs": [
    {
     "data": {
      "text/plain": [
       "array([[0., 0., 0.],\n",
       "       [0., 0., 0.],\n",
       "       [0., 0., 0.]])"
      ]
     },
     "execution_count": 28,
     "metadata": {},
     "output_type": "execute_result"
    }
   ],
   "source": [
    "A = np.zeros((3, 3))\n",
    "A"
   ]
  },
  {
   "cell_type": "code",
   "execution_count": null,
   "metadata": {},
   "outputs": [],
   "source": []
  }
 ],
 "metadata": {
  "kernelspec": {
   "display_name": "exergy_311",
   "language": "python",
   "name": "python3"
  },
  "language_info": {
   "codemirror_mode": {
    "name": "ipython",
    "version": 3
   },
   "file_extension": ".py",
   "mimetype": "text/x-python",
   "name": "python",
   "nbconvert_exporter": "python",
   "pygments_lexer": "ipython3",
   "version": "3.11.0"
  },
  "orig_nbformat": 4
 },
 "nbformat": 4,
 "nbformat_minor": 2
}
