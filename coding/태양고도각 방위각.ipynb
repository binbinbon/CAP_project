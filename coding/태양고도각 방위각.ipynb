{
 "cells": [
  {
   "attachments": {},
   "cell_type": "markdown",
   "metadata": {},
   "source": [
    "## 라이브러리 불러오기"
   ]
  },
  {
   "cell_type": "code",
   "execution_count": 1,
   "metadata": {},
   "outputs": [],
   "source": [
    "import math\n",
    "from datetime import datetime\n",
    "import openpyxl\n",
    "import pandas as pd\n",
    "from PIL import Image\n",
    "import numpy as np"
   ]
  },
  {
   "attachments": {},
   "cell_type": "markdown",
   "metadata": {},
   "source": [
    "### Code 참고 링크"
   ]
  },
  {
   "cell_type": "code",
   "execution_count": 2,
   "metadata": {},
   "outputs": [],
   "source": [
    "# https://blog.naver.com/PostView.nhn?blogId=rising_n_falling&logNo=222147135486    태양의 고도각, 방위각을 얻는 과정에 대한 전반적인 알고리즘"
   ]
  },
  {
   "attachments": {},
   "cell_type": "markdown",
   "metadata": {},
   "source": [
    "## Constant"
   ]
  },
  {
   "attachments": {},
   "cell_type": "markdown",
   "metadata": {},
   "source": [
    "### Unit change"
   ]
  },
  {
   "cell_type": "code",
   "execution_count": 3,
   "metadata": {},
   "outputs": [],
   "source": [
    "# 각도 단위 변경\n",
    "d2r = math.pi/180\n",
    "r2d = 180/math.pi\n",
    "\n",
    "# 에너지 단위 변경\n",
    "MJ2J = 1000000    # 10^6 MJ to(2) J\n",
    "\n",
    "# 시간 단위 변경\n",
    "one_hour_to_sec = 3600  # 한 시간을 초로\n",
    "one_hour_to_min = 60 # [min]\n",
    "one_day_to_hour = 24 # [h]\n",
    "one_min_to_sec = 60"
   ]
  },
  {
   "attachments": {},
   "cell_type": "markdown",
   "metadata": {},
   "source": [
    "### Calculation"
   ]
  },
  {
   "cell_type": "code",
   "execution_count": 4,
   "metadata": {},
   "outputs": [],
   "source": [
    "# ε = long-wave emittance of the surface\n",
    "# σ = Stefan-Boltzmann constant\n",
    "# Fgnd = view factor of wall surface to ground surface temperature\n",
    "# Fsky = view factor of wall surface to sky temperature\n",
    "# Fair = view factor of wall surface to air temperature\n",
    "# Tsurf = outside surface temperature\n",
    "# Tgnd = ground surface temperature\n",
    "# Tsky = sky temperature\n",
    "# Tair = air temperature"
   ]
  },
  {
   "cell_type": "code",
   "execution_count": 5,
   "metadata": {},
   "outputs": [],
   "source": [
    "emissivity_surf = 1.0\n",
    "boltz_constant = 5.67*10**(-8) "
   ]
  },
  {
   "attachments": {},
   "cell_type": "markdown",
   "metadata": {},
   "source": [
    "### 벽체의 법선각"
   ]
  },
  {
   "cell_type": "code",
   "execution_count": 6,
   "metadata": {},
   "outputs": [],
   "source": [
    "# 벽체 법선각  정남향 0 서쪽 -, 동쪽 +\n",
    "surf_azimuth = 0  # -- 정남향"
   ]
  },
  {
   "attachments": {},
   "cell_type": "markdown",
   "metadata": {},
   "source": [
    "### 위도, 실제 경도, 지역경도 입력하기"
   ]
  },
  {
   "cell_type": "code",
   "execution_count": 7,
   "metadata": {},
   "outputs": [],
   "source": [
    "# 광주 위도, 경도\n",
    "local_latitude = 35.16\n",
    "local_longitude = 126.853    # --- 실제 경도\n",
    "standard_longitude = 135     # --- 일본과 같은 시간을 쓰기 위한 표준 경도 "
   ]
  },
  {
   "attachments": {},
   "cell_type": "markdown",
   "metadata": {},
   "source": [
    "## Dictionary"
   ]
  },
  {
   "cell_type": "code",
   "execution_count": 8,
   "metadata": {},
   "outputs": [],
   "source": [
    "# h = D + E*V + F*V^2 \n",
    "Roughness_dict = {\"Very Rough\"   : {\"D\": 11.58, \"E\" : 5.894, \"F\" :    0.0}, # Stucoo \n",
    "                  \"Rough\"        : {\"D\": 12.49, \"E\" : 4.065, \"F\" :  0.028}, # Brick\n",
    "                  \"Medium Rough\" : {\"D\": 10.79, \"E\" : 4.192, \"F\" :    0.0}, # Concrete\n",
    "                  \"Medium Smooth\": {\"D\":  8.23, \"E\" : 4.000, \"F\" : -0.057}, # Clear pine\n",
    "                  \"Smooth\"       : {\"D\": 10.22, \"E\" : 3.100, \"F\" :    0.0}, # Smooth Plaster\n",
    "                  \"Very Smooth\"  : {\"D\":  8.23, \"E\" : 3.300, \"F\" : -0.036}, # Glass \n",
    "                  }"
   ]
  },
  {
   "attachments": {},
   "cell_type": "markdown",
   "metadata": {},
   "source": [
    "## 함수"
   ]
  },
  {
   "attachments": {},
   "cell_type": "markdown",
   "metadata": {},
   "source": [
    "### 선형보간 함수"
   ]
  },
  {
   "cell_type": "code",
   "execution_count": 9,
   "metadata": {},
   "outputs": [],
   "source": [
    "# 선형보간 함수\n",
    "def interpolate_list(lst,n):\n",
    "    result = []\n",
    "    for i in range(len(lst)-1):  # 리스트 길이보다 하나 작은 숫자로 포문을 돌림 -> 마지막에는 포문으로 선형보간 없이 자기 자신만 추가해줘야함 -> 하지만 23:55 까지만 데이터를 얻을 것이기 때문에 추가 따로 안하고 마지막 값은 안들어가는 걸로 했음\n",
    "        result.append(round(lst[i],2))   # 각 인자들을 빈 리스트인 result에 하나씩 넣음 \n",
    "        x1, x2 = lst[i], lst[i+1] # 각 x1, x2를 리스트에 있는 i번째 값, i+1번째 값으로 선언 \n",
    "        y = n + 1                               \n",
    "        slope = (x2-x1)/y    # x + slope*n 에 쓰일 것\n",
    "        for i in range(1,n+1):     # x1 데이터 넣고 선형보간한 것 채워넣기\n",
    "            x2 = x1 + slope*(i) # +1 을 한 이유는 range가 0부터 넣기 때문\n",
    "            result.append(round(x2,2))\n",
    "    return result"
   ]
  },
  {
   "attachments": {},
   "cell_type": "markdown",
   "metadata": {},
   "source": [
    "## Run"
   ]
  },
  {
   "cell_type": "code",
   "execution_count": 10,
   "metadata": {},
   "outputs": [],
   "source": [
    "#                            년도  시작 달  시작날짜    끝날짜   초 간격    넣을 기상 데이터 파일 위치  저장할 기상 데이터 파일 위치\n",
    "def save_solar_data_to_excel(year, month, start_day, end_day, step_sec, weather_data_file_location, save_data_file_location ):  # 태양의 고도각, 방위각을 저장하는 함수\n",
    "    global insolation_to_wall_interpolated_vector, df_solar_data, insolation_to_wall_interpolated_vector, solar_altitude_vector, solar_azimute_vector,insolation_interpolated_vector, angle_between_vector\n",
    "\n",
    "    # 시작 시간, 분, 초 모두 0 값으로 세팅 \n",
    "    local_sec = 0\n",
    "    local_min = 0\n",
    "    local_hour = 0\n",
    "\n",
    "    # 선형보간으로 사이에 추가할 인수 개수\n",
    "    interpolate_num = one_hour_to_sec/step_sec - 1 \n",
    "\n",
    "    # ------------------------------------------------------------------------- Data read \n",
    "    df_weather_data = pd.read_csv(weather_data_file_location, encoding='cp949', na_values='')\n",
    "    df_weather_data.fillna(0, inplace=True)\n",
    "\n",
    "    df_weather_data['일사(W/m2)'] = df_weather_data['일사(MJ/m2)']*MJ2J/one_hour_to_sec  # Insolation data 단위변경 \n",
    "\n",
    "    # ------------------------------------------------------------------------- Data to list\n",
    "    air_temp_vector = df_weather_data['기온(°C)'].to_list()\n",
    "    ground_surf_temp_vector = df_weather_data['지면온도(°C)'].to_list()\n",
    "    insolation_vector = df_weather_data['일사(W/m2)'].to_list()\n",
    "    wind_veolcity_vector = df_weather_data['풍속(m/s)'].to_list()\n",
    "\n",
    "\n",
    "    time_vector = []                 # 시간에 대한 정보를 저장할 벡터\n",
    "    solar_altitude_vector = []       # 태양고도각을 저장할 벡터\n",
    "    solar_azimute_vector = []        # 태양방위각을 저장할 벡터\n",
    "    angle_between_vector = []        # 벽체 법선각과 태양 방위각의 차이를 저장할 벡터\n",
    "    convection_heat_transfer_coefficient_vector = [] # wind data를 이용해 대류열전달 계수를 저장할 벡터\n",
    "    \n",
    "    current_day = start_day         # 계산에 쓰일 현재 날짜 계산 변수 \n",
    "\n",
    "    while current_day != end_day+1:  # 현재계산 날짜가 계산 끝날짜 바로 다음날로 넘어가는 순간 정지  \n",
    "\n",
    "        time_vector.append(f\"{year}-{month}-{current_day} {local_hour}:{local_min}:{local_sec}\") # 현재 시간을 나타내는 값을 time_vector에 추가해준다\n",
    "\n",
    "        # -------------------------------------------------------------------------------------------------------------- 균시차 \n",
    "        day_of_year = datetime(year, month, current_day).timetuple().tm_yday\n",
    "        B = (day_of_year - 1) * 360/365\n",
    "        EOT = 229.2 * (0.000075\n",
    "                    + 0.001868 * math.cos(d2r * B)\n",
    "                    - 0.032077 * math.sin(d2r * B)\n",
    "                    - 0.014615 * math.cos(d2r * 2 * B)\n",
    "                    - 0.04089 * math.sin(d2r * 2 * B))\n",
    "\n",
    "        # -------------------------------------------------------------------------------------------------------------- 시간각\n",
    "        local_hour_decimal = local_hour + local_min/60\n",
    "        delta_longitude = local_longitude - standard_longitude\n",
    "        solar_time_decimal = (local_hour_decimal * 60 + 4 * delta_longitude + EOT) / 60\n",
    "        solar_time_hour = int(solar_time_decimal)\n",
    "        solar_time_min = (solar_time_decimal * 60) % 60\n",
    "        hour_angle = (local_hour_decimal * 60 + 4 * delta_longitude + EOT) / 60 * 15 - 180\n",
    "\n",
    "        # -------------------------------------------------------------------------------------------------------------- 태양적위\n",
    "        solar_declination = 23.45 * math.sin(d2r * 360 / 365 * (284 + day_of_year))\n",
    "\n",
    "        # -------------------------------------------------------------------------------------------------------------- 태양고도\n",
    "        term_1 = math.cos(d2r * local_latitude) * math.cos(d2r * solar_declination) * math.cos(d2r * hour_angle) \\\n",
    "                + math.sin(d2r * local_latitude) * math.sin(d2r * solar_declination)\n",
    "        solar_altitude = r2d * math.asin(term_1)\n",
    "        solar_altitude_vector.append(solar_altitude) # vector에 값 넣기\n",
    "\n",
    "        # -------------------------------------------------------------------------------------------------------------- 태양방위각\n",
    "        term_2 = (math.sin(d2r * solar_altitude) * math.sin(d2r * local_latitude) - math.sin(d2r * solar_declination))\\\n",
    "                / (math.cos(d2r * solar_altitude) * math.cos(d2r * local_latitude))\n",
    "        solar_azimuth = r2d * math.acos(term_2)\n",
    "        solar_azimute_vector.append(solar_azimuth)\n",
    "\n",
    "        # -------------------------------------------------------------------------------------------------------------- 법선 사이각\n",
    "        angle_between = solar_azimuth - surf_azimuth  # 벽체 법선과 태양 방위각 사이의 각도 \n",
    "        angle_between_vector.append(angle_between)\n",
    "        \n",
    "        # -------------------------------------------------------------------------------------------------------------- 시간 업데이트\n",
    "        local_sec += step_sec    # step sec 만큼 시간 업데이트 해주기\n",
    "\n",
    "        if local_sec >= one_min_to_sec:     # 초와 분의 관계 60초 넘어가면 분에 더해주고 나머지 초를 자기 자신으로 업데이트\n",
    "            local_sec = local_sec-one_min_to_sec\n",
    "            local_min += 1\n",
    "\n",
    "        if local_min >= one_hour_to_min:    # 분과 시간 관계 60분 넘어가면 시간에 더해주고 나머지 분을 자기 자신으로 업데이트 \n",
    "            local_min = local_min-one_hour_to_min\n",
    "            local_hour += 1\n",
    "\n",
    "        if local_hour >= one_day_to_hour:   # 시간과 날짜의 관계 24시간 넘어가면 다음날로 업데이트 해주고 남은 시간을 자기자신으로 업데이트 \n",
    "            local_hour = local_hour - one_day_to_hour\n",
    "            current_day += 1\n",
    "\n",
    "    # ----------------------------------------------------------------------------------------------------------------------- 벡터값 선형보간 \n",
    "    air_temp_interpolated_vector = interpolate_list(air_temp_vector,int(interpolate_num))   # ---- 선형보간으로 분단위 메꿔주기\n",
    "    ground_surf_temp_interpolated_vector = interpolate_list(ground_surf_temp_vector,int(interpolate_num))\n",
    "    insolation_interpolated_vector = interpolate_list(insolation_vector,int(interpolate_num))\n",
    "    wind_veolcity_interpolated_vector = interpolate_list(wind_veolcity_vector,int(interpolate_num))\n",
    "    \n",
    "    #----------------------------------------------------------------------------------------------------------------------- 대류열전달 계수 저장\n",
    "    convection_heat_transfer_coefficient_vector = [Roughness_dict[\"Medium Rough\"][\"D\"]                                       # h = D + E*V + F*V^2\n",
    "                                                 + Roughness_dict[\"Medium Rough\"][\"E\"]*wind_veolcity_interpolated_vector[i]\n",
    "                                                 + Roughness_dict[\"Medium Rough\"][\"F\"]*(wind_veolcity_interpolated_vector[i])**2\n",
    "                                                 for i in range(len(wind_veolcity_interpolated_vector))]\n",
    "    # ----------------------------------------------------------------------------------------------------------------------- Insolation 벽체에 입사하는 값으로 바꿔주기\n",
    "    insolation_to_wall_interpolated_vector = [0 if solar_altitude_vector[i] <= 0\n",
    "                                              else insolation_interpolated_vector[i]\n",
    "                                              *(math.atan(d2r*solar_altitude_vector[i]))*(math.cos(d2r*angle_between_vector[i]))\n",
    "                                              for i in range(len(time_vector))]\n",
    "\n",
    "    # --------------------------------------------------------------------------- Insolation 벽체와 태양의 방위각이 90이상일 때 0값으로 변경해주기\n",
    "    insolation_to_wall_interpolated_vector = [0 if angle_between_vector[i] >= 90            \n",
    "                                              else insolation_to_wall_interpolated_vector[i] \n",
    "                                              for i in range(len(time_vector))]\n",
    "\n",
    "    df_solar_data = pd.DataFrame({'Time' : time_vector,\n",
    "                                  'Solar altitude': solar_altitude_vector,\n",
    "                                  'Solar azimute' : solar_azimute_vector,\n",
    "                                  'Between angle' : angle_between_vector,\n",
    "                                  'Temperature' : air_temp_interpolated_vector,    # -- 기상데이터들은 한 시간단위로 얻어진 것이기 때문에 선형보간을 이용하여 사이를 선형보간으로 메꾸어 추가\n",
    "                                  'Ground temperature' : ground_surf_temp_interpolated_vector,\n",
    "                                  'Insolation'         : insolation_interpolated_vector,\n",
    "                                  'Insolation to wall(W/m2)' : insolation_to_wall_interpolated_vector,\n",
    "                                  'Wind velocity(m/s)' : wind_veolcity_interpolated_vector, \n",
    "                                  'h_c' : convection_heat_transfer_coefficient_vector\n",
    "                                  })\n",
    "    df_solar_data.to_csv(save_data_file_location, index= False) # 인덱스 설정 및 최종저장"
   ]
  },
  {
   "attachments": {},
   "cell_type": "markdown",
   "metadata": {},
   "source": [
    "spring"
   ]
  },
  {
   "cell_type": "code",
   "execution_count": 12,
   "metadata": {},
   "outputs": [],
   "source": [
    "time_data_dict = {\n",
    "'year' : 2022,\n",
    "'month' : 4,\n",
    "'start_day' : 15,\n",
    "'end_day' : 21,\n",
    "'step_sec': 10,\n",
    "'weather_data_file_location': '../data/Weather data_spring.csv',\n",
    "'save_data_file_location': '../data/Solar data_spring.csv',\n",
    "}\n",
    "\n",
    "save_solar_data_to_excel(**time_data_dict) # 함수에 딕셔너리를 넣을 땐 앞에 ** 를 붙여줌"
   ]
  },
  {
   "attachments": {},
   "cell_type": "markdown",
   "metadata": {},
   "source": [
    "summer"
   ]
  },
  {
   "cell_type": "code",
   "execution_count": 15,
   "metadata": {},
   "outputs": [],
   "source": [
    "time_data_dict = {\n",
    "'year' : 2022,\n",
    "'month' : 7,\n",
    "'start_day' : 24,\n",
    "'end_day' : 30,\n",
    "'step_sec': 10,\n",
    "'weather_data_file_location': '../data/Weather data_summer.csv',\n",
    "'save_data_file_location': '../data/Solar data_summer.csv',\n",
    "}\n",
    "\n",
    "save_solar_data_to_excel(**time_data_dict) # 함수에 딕셔너리를 넣을 땐 앞에 ** 를 붙여줌"
   ]
  },
  {
   "attachments": {},
   "cell_type": "markdown",
   "metadata": {},
   "source": [
    "autumn"
   ]
  },
  {
   "cell_type": "code",
   "execution_count": 16,
   "metadata": {},
   "outputs": [],
   "source": [
    "time_data_dict = {\n",
    "'year' : 2022,\n",
    "'month' : 10,\n",
    "'start_day' : 23,\n",
    "'end_day' : 29,\n",
    "'step_sec': 10,\n",
    "'weather_data_file_location': '../data/Weather data_autumn.csv',\n",
    "'save_data_file_location': '../data/Solar data_autumn.csv',\n",
    "}\n",
    "\n",
    "save_solar_data_to_excel(**time_data_dict) # 함수에 딕셔너리를 넣을 땐 앞에 ** 를 붙여줌"
   ]
  },
  {
   "attachments": {},
   "cell_type": "markdown",
   "metadata": {},
   "source": [
    "winter"
   ]
  },
  {
   "cell_type": "code",
   "execution_count": 17,
   "metadata": {},
   "outputs": [],
   "source": [
    "time_data_dict = { \n",
    "'year' : 2022,\n",
    "'month' : 1,\n",
    "'start_day' : 1,\n",
    "'end_day' : 7,\n",
    "'step_sec': 10,\n",
    "'weather_data_file_location': '../data/Weather data_winter.csv',\n",
    "'save_data_file_location': '../data/Solar data_winter.csv',\n",
    "}\n",
    "\n",
    "save_solar_data_to_excel(**time_data_dict) # 함수에 딕셔너리를 넣을 땐 앞에 ** 를 붙여줌"
   ]
  }
 ],
 "metadata": {
  "kernelspec": {
   "display_name": "exergy_311",
   "language": "python",
   "name": "python3"
  },
  "language_info": {
   "codemirror_mode": {
    "name": "ipython",
    "version": 3
   },
   "file_extension": ".py",
   "mimetype": "text/x-python",
   "name": "python",
   "nbconvert_exporter": "python",
   "pygments_lexer": "ipython3",
   "version": "3.11.0"
  },
  "orig_nbformat": 4
 },
 "nbformat": 4,
 "nbformat_minor": 2
}
