{
 "cells": [
  {
   "attachments": {},
   "cell_type": "markdown",
   "metadata": {},
   "source": [
    "## 라이브러리 불러오기"
   ]
  },
  {
   "cell_type": "code",
   "execution_count": 1,
   "metadata": {},
   "outputs": [],
   "source": [
    "import math\n",
    "from datetime import datetime\n",
    "import openpyxl\n",
    "import pandas as pd\n",
    "from PIL import Image\n",
    "import numpy as np"
   ]
  },
  {
   "attachments": {},
   "cell_type": "markdown",
   "metadata": {},
   "source": [
    "### Code 참고 링크"
   ]
  },
  {
   "cell_type": "code",
   "execution_count": 2,
   "metadata": {},
   "outputs": [],
   "source": [
    "# https://blog.naver.com/PostView.nhn?blogId=rising_n_falling&logNo=222147135486    태양의 고도각, 방위각을 얻는 과정에 대한 전반적인 알고리즘"
   ]
  },
  {
   "attachments": {},
   "cell_type": "markdown",
   "metadata": {},
   "source": [
    "## Constant"
   ]
  },
  {
   "attachments": {},
   "cell_type": "markdown",
   "metadata": {},
   "source": [
    "### Unit change"
   ]
  },
  {
   "cell_type": "code",
   "execution_count": 3,
   "metadata": {},
   "outputs": [],
   "source": [
    "# 각도 단위 변경\n",
    "d2r = math.pi/180\n",
    "r2d = 180/math.pi\n",
    "\n",
    "# 에너지 단위 변경\n",
    "MJ2J = 1000000    # 10^6 MJ to(2) J\n",
    "\n",
    "# 시간 단위 변경\n",
    "one_hour_to_sec = 3600  # 한 시간을 초로\n",
    "one_hour_to_min = 60 # [min]\n",
    "one_day_to_hour = 24 # [h]\n",
    "one_min_to_sec = 60"
   ]
  },
  {
   "attachments": {},
   "cell_type": "markdown",
   "metadata": {},
   "source": [
    "### Calculation"
   ]
  },
  {
   "cell_type": "code",
   "execution_count": 4,
   "metadata": {},
   "outputs": [],
   "source": [
    "# ε = long-wave emittance of the surface\n",
    "# σ = Stefan-Boltzmann constant\n",
    "# Fgnd = view factor of wall surface to ground surface temperature\n",
    "# Fsky = view factor of wall surface to sky temperature\n",
    "# Fair = view factor of wall surface to air temperature\n",
    "# Tsurf = outside surface temperature\n",
    "# Tgnd = ground surface temperature\n",
    "# Tsky = sky temperature\n",
    "# Tair = air temperature"
   ]
  },
  {
   "cell_type": "code",
   "execution_count": 5,
   "metadata": {},
   "outputs": [],
   "source": [
    "emissivity_surf = 1.0\n",
    "boltz_constant = 5.67*10**(-8) "
   ]
  },
  {
   "attachments": {},
   "cell_type": "markdown",
   "metadata": {},
   "source": [
    "### 벽체의 법선각"
   ]
  },
  {
   "cell_type": "code",
   "execution_count": 6,
   "metadata": {},
   "outputs": [],
   "source": [
    "# 벽체 법선각  정남향 0 서쪽 -, 동쪽 +\n",
    "surf_azimuth = 0  # -- 정남향"
   ]
  },
  {
   "attachments": {},
   "cell_type": "markdown",
   "metadata": {},
   "source": [
    "### 위도, 실제 경도, 지역경도 입력하기"
   ]
  },
  {
   "cell_type": "code",
   "execution_count": 7,
   "metadata": {},
   "outputs": [],
   "source": [
    "# 서울 위도, 경도\n",
    "local_latitude = 37.478\n",
    "local_longitude = 127.148    # --- 실제 경도\n",
    "standard_longitude = 135     # --- 일본과 같은 시간을 쓰기 위한 표준 경도 "
   ]
  },
  {
   "attachments": {},
   "cell_type": "markdown",
   "metadata": {},
   "source": [
    "## Dictionary"
   ]
  },
  {
   "cell_type": "code",
   "execution_count": 8,
   "metadata": {},
   "outputs": [],
   "source": [
    "# h = D + E*V + F*V^2 \n",
    "Roughness_dict = {\"Very Rough\"   : {\"D\": 11.58, \"E\" : 5.894, \"F\" :    0.0}, # Stucoo \n",
    "                  \"Rough\"        : {\"D\": 12.49, \"E\" : 4.065, \"F\" :  0.028}, # Brick\n",
    "                  \"Medium Rough\" : {\"D\": 10.79, \"E\" : 4.192, \"F\" :    0.0}, # Concrete\n",
    "                  \"Medium Smooth\": {\"D\":  8.23, \"E\" : 4.000, \"F\" : -0.057}, # Clear pine\n",
    "                  \"Smooth\"       : {\"D\": 10.22, \"E\" : 3.100, \"F\" :    0.0}, # Smooth Plaster\n",
    "                  \"Very Smooth\"  : {\"D\":  8.23, \"E\" : 3.300, \"F\" : -0.036}, # Glass \n",
    "                  }"
   ]
  },
  {
   "attachments": {},
   "cell_type": "markdown",
   "metadata": {},
   "source": [
    "## 함수"
   ]
  },
  {
   "attachments": {},
   "cell_type": "markdown",
   "metadata": {},
   "source": [
    "### 선형보간 함수"
   ]
  },
  {
   "cell_type": "code",
   "execution_count": 9,
   "metadata": {},
   "outputs": [],
   "source": [
    "# 선형보간 함수\n",
    "def interpolate_list(lst,n):\n",
    "    result = []\n",
    "    for i in range(len(lst)-1):  # 리스트 길이보다 하나 작은 숫자로 포문을 돌림 -> 마지막에는 포문으로 선형보간 없이 자기 자신만 추가해줘야함 -> 하지만 23:55 까지만 데이터를 얻을 것이기 때문에 추가 따로 안하고 마지막 값은 안들어가는 걸로 했음\n",
    "        result.append(round(lst[i],2))   # 각 인자들을 빈 리스트인 result에 하나씩 넣음 \n",
    "        x1, x2 = lst[i], lst[i+1] # 각 x1, x2를 리스트에 있는 i번째 값, i+1번째 값으로 선언 \n",
    "        y = n + 1                               \n",
    "        slope = (x2-x1)/y    # x + slope*n 에 쓰일 것\n",
    "        for i in range(1,n+1):     # x1 데이터 넣고 선형보간한 것 채워넣기\n",
    "            x2 = x1 + slope*(i) # +1 을 한 이유는 range가 0부터 넣기 때문\n",
    "            result.append(round(x2,2))\n",
    "    return result"
   ]
  },
  {
   "attachments": {},
   "cell_type": "markdown",
   "metadata": {},
   "source": [
    "## 데이터 얻기"
   ]
  },
  {
   "attachments": {},
   "cell_type": "markdown",
   "metadata": {},
   "source": [
    "### 엑셀 파일경로"
   ]
  },
  {
   "attachments": {},
   "cell_type": "markdown",
   "metadata": {},
   "source": [
    "### Excel vs CSV\n",
    "CSV 파일과 Excel 파일의 가장 큰 차이점은 데이터의 형식입니다. CSV 파일은 Comma Separated Values의 약자로서, 데이터를 콤마(,)로 구분하여 저장하는 파일 형식입니다. 반면에, Excel 파일은 Microsoft Excel 프로그램에서 생성되는 전자 스프레드시트 파일 형식입니다.\n",
    "\n",
    "CSV 파일과 Excel 파일의 차이점은 다음과 같습니다. 첫째, CSV 파일은 데이터를 조작하지 않고 그대로 저장합니다. 반면에 Excel에서는 각 행의 각 열에 시작 태그와 끝 태그가 있어야 합니다 [1]. 둘째, CSV 파일에서는 열 헤더를 한 번만 작성하면 됩니다. 반면에 Excel 파일에서는 각 열의 헤더를 별도로 작성해야 합니다. 셋째, CSV 파일에서 데이터를 가져오는 동안 Excel에서 더 많은 메모리를 사용합니다. 그렇기 때문에 CSV 파일 가져오기 속도가 훨씬 빠릅니다 [1].\n",
    "\n",
    "따라서, 데이터를 간단하게 저장하고 다룰 때는 CSV 파일을 사용하는 것이 유리하며, 복잡하고 대용량의 데이터를 다룰 때는 Excel 파일이 유용합니다\n",
    "\n",
    "csv 주의사항, 한국말 못읽음, degree 같은 특수문자 못읽음"
   ]
  },
  {
   "attachments": {},
   "cell_type": "markdown",
   "metadata": {},
   "source": [
    "### 엑셀에 데이터 저장하기"
   ]
  },
  {
   "attachments": {},
   "cell_type": "markdown",
   "metadata": {},
   "source": [
    "### New (step sec divide)"
   ]
  },
  {
   "cell_type": "code",
   "execution_count": 10,
   "metadata": {},
   "outputs": [],
   "source": [
    "#                            년도  시작 달  시작날짜    끝날짜   초 간격    넣을 기상 데이터 파일 위치  저장할 기상 데이터 파일 위치\n",
    "def save_solar_data_to_excel(year, month, start_day, end_day, step_sec, weather_data_file_location, save_data_file_location ):  # 태양의 고도각, 방위각을 저장하는 함수\n",
    "\n",
    "    # 시작 시간, 분, 초 모두 0 값으로 세팅 \n",
    "    local_sec = 0\n",
    "    local_min = 0\n",
    "    local_hour = 0\n",
    "\n",
    "    # 선형보간으로 사이에 추가할 인수 개수\n",
    "    interpolate_num = one_hour_to_sec/step_sec - 1 \n",
    "\n",
    "    # ------------------------------------------------------------------------- Data read \n",
    "    df_weather_data = pd.read_csv(weather_data_file_location, encoding='cp949')\n",
    "    df_weather_data['일사(W/m2)'] = df_weather_data['일사(MJ/m2)']*MJ2J/one_hour_to_sec  # Insolation data 단위변경 \n",
    "\n",
    "    # ------------------------------------------------------------------------- Data to list\n",
    "    air_temp_vector = df_weather_data['기온(°C)'].to_list()\n",
    "    ground_surf_temp_vector = df_weather_data['지면온도(°C)'].to_list()\n",
    "    insolation_vector = df_weather_data['일사(W/m2)'].to_list()\n",
    "    wind_veolcity_vector = df_weather_data['풍속(m/s)'].to_list()\n",
    "\n",
    "\n",
    "    time_vector = []                 # 시간에 대한 정보를 저장할 벡터\n",
    "    solar_altitude_vector = []       # 태양고도각을 저장할 벡터\n",
    "    solar_azimute_vector = []        # 태양방위각을 저장할 벡터\n",
    "    angle_between_vector = []        # 벽체 법선각과 태양 방위각의 차이를 저장할 벡터\n",
    "    convection_heat_transfer_coefficient_vector = [] # wind data를 이용해 대류열전달 계수를 저장할 벡터\n",
    "    \n",
    "    current_day = start_day         # 계산에 쓰일 현재 날짜 계산 변수 \n",
    "\n",
    "    while current_day != end_day+1:  # 현재계산 날짜가 계산 끝날짜 바로 다음날로 넘어가는 순간 정지  \n",
    "\n",
    "        time_vector.append(f\"{year}-{month}-{current_day} {local_hour}:{local_min}:{local_sec}\") # 현재 시간을 나타내는 값을 time_vector에 추가해준다\n",
    "\n",
    "        # -------------------------------------------------------------------------------------------------------------- 균시차 \n",
    "        day_of_year = datetime(year, month, current_day).timetuple().tm_yday\n",
    "        B = (day_of_year - 1) * 360/365\n",
    "        EOT = 229.2 * (0.000075\n",
    "                    + 0.001868 * math.cos(d2r * B)\n",
    "                    - 0.032077 * math.sin(d2r * B)\n",
    "                    - 0.014615 * math.cos(d2r * 2 * B)\n",
    "                    - 0.04089 * math.sin(d2r * 2 * B))\n",
    "\n",
    "        # -------------------------------------------------------------------------------------------------------------- 시간각\n",
    "        local_hour_decimal = local_hour + local_min/60\n",
    "        delta_longitude = local_longitude - standard_longitude\n",
    "        solar_time_decimal = (local_hour_decimal * 60 + 4 * delta_longitude + EOT) / 60\n",
    "        solar_time_hour = int(solar_time_decimal)\n",
    "        solar_time_min = (solar_time_decimal * 60) % 60\n",
    "        hour_angle = (local_hour_decimal * 60 + 4 * delta_longitude + EOT) / 60 * 15 - 180\n",
    "\n",
    "        # -------------------------------------------------------------------------------------------------------------- 태양적위\n",
    "        solar_declination = 23.45 * math.sin(d2r * 360 / 365 * (284 + day_of_year))\n",
    "\n",
    "        # -------------------------------------------------------------------------------------------------------------- 태양고도\n",
    "        term_1 = math.cos(d2r * local_latitude) * math.cos(d2r * solar_declination) * math.cos(d2r * hour_angle) \\\n",
    "                + math.sin(d2r * local_latitude) * math.sin(d2r * solar_declination)\n",
    "        solar_altitude = r2d * math.asin(term_1)\n",
    "        solar_altitude_vector.append(solar_altitude) # vector에 값 넣기\n",
    "\n",
    "        # -------------------------------------------------------------------------------------------------------------- 태양방위각\n",
    "        term_2 = (math.sin(d2r * solar_altitude) * math.sin(d2r * local_latitude) - math.sin(d2r * solar_declination))\\\n",
    "                / (math.cos(d2r * solar_altitude) * math.cos(d2r * local_latitude))\n",
    "        solar_azimuth = r2d * math.acos(term_2)\n",
    "        solar_azimute_vector.append(solar_azimuth)\n",
    "\n",
    "        # -------------------------------------------------------------------------------------------------------------- 법선 사이각\n",
    "        angle_between = solar_azimuth - surf_azimuth  # 벽체 법선과 태양 방위각 사이의 각도 \n",
    "        angle_between_vector.append(angle_between)\n",
    "        \n",
    "        # -------------------------------------------------------------------------------------------------------------- 시간 업데이트\n",
    "        local_sec += step_sec    # step sec 만큼 시간 업데이트 해주기\n",
    "\n",
    "        if local_sec >= one_min_to_sec:     # 초와 분의 관계 60초 넘어가면 분에 더해주고 나머지 초를 자기 자신으로 업데이트\n",
    "            local_sec = local_sec-one_min_to_sec\n",
    "            local_min += 1\n",
    "\n",
    "        if local_min >= one_hour_to_min:    # 분과 시간 관계 60분 넘어가면 시간에 더해주고 나머지 분을 자기 자신으로 업데이트 \n",
    "            local_min = local_min-one_hour_to_min\n",
    "            local_hour += 1\n",
    "\n",
    "        if local_hour >= one_day_to_hour:   # 시간과 날짜의 관계 24시간 넘어가면 다음날로 업데이트 해주고 남은 시간을 자기자신으로 업데이트 \n",
    "            local_hour = local_hour - one_day_to_hour\n",
    "            current_day += 1\n",
    "\n",
    "    # ----------------------------------------------------------------------------------------------------------------------- 벡터값 선형보간 \n",
    "    air_temp_interpolated_vector = interpolate_list(air_temp_vector,int(interpolate_num))   # ---- 선형보간으로 분단위 메꿔주기\n",
    "    ground_surf_temp_interpolated_vector = interpolate_list(ground_surf_temp_vector,int(interpolate_num))\n",
    "    insolation_interpolated_vector = interpolate_list(insolation_vector,int(interpolate_num))\n",
    "    wind_veolcity_interpolated_vector = interpolate_list(wind_veolcity_vector,int(interpolate_num))\n",
    "    \n",
    "    #----------------------------------------------------------------------------------------------------------------------- 대류열전달 계수 저장\n",
    "    convection_heat_transfer_coefficient_vector = [Roughness_dict[\"Medium Rough\"][\"D\"]                                       # h = D + E*V + F*V^2\n",
    "                                                 + Roughness_dict[\"Medium Rough\"][\"E\"]*wind_veolcity_interpolated_vector[i]\n",
    "                                                 + Roughness_dict[\"Medium Rough\"][\"F\"]*(wind_veolcity_interpolated_vector[i])**2\n",
    "                                                 for i in range(len(wind_veolcity_interpolated_vector))]\n",
    "    # ----------------------------------------------------------------------------------------------------------------------- Insolation 벽체에 입사하는 값으로 바꿔주기\n",
    "    insolation_to_wall_interpolated_vector = [insolation_interpolated_vector[i]\n",
    "                                              *(math.cos(d2r*solar_altitude_vector[i])\n",
    "                                               /math.sin(d2r*solar_altitude_vector[i])\n",
    "                                               *math.cos(d2r*angle_between_vector[i]))\n",
    "                                              for i in range(len(time_vector))]\n",
    "    # ----------------------------------------------------------------------------------------------------------------------- Insolation 벽체와 태양의 방위각이 90이상일 때 0값으로 변경해주기\n",
    "    insolation_to_wall_interpolated_vector = [0 if angle_between_vector[i] >= 90            \n",
    "                                              else insolation_to_wall_interpolated_vector[i] \n",
    "                                              for i in range(len(time_vector))]\n",
    "\n",
    "    df_solar_data = pd.DataFrame({'Time' : time_vector,\n",
    "                                  'Solar altitude': solar_altitude_vector,\n",
    "                                  'Solar azimute' : solar_azimute_vector,\n",
    "                                  'Between angle' : angle_between_vector,\n",
    "                                  'Temperature' : air_temp_interpolated_vector,    # -- 기상데이터들은 한 시간단위로 얻어진 것이기 때문에 선형보간을 이용하여 사이를 선형보간으로 메꾸어 추가\n",
    "                                  'Ground temperature' : ground_surf_temp_interpolated_vector,\n",
    "                                  'Insolation'         : insolation_interpolated_vector,\n",
    "                                  'Insolation to wall(W/m2)' : insolation_to_wall_interpolated_vector,\n",
    "                                  'Wind velocity(m/s)' : wind_veolcity_interpolated_vector, \n",
    "                                  'h_c' : convection_heat_transfer_coefficient_vector\n",
    "                                  })\n",
    "    df_solar_data.to_csv(save_data_file_location, index= False) # 인덱스 설정 및 최종저장"
   ]
  },
  {
   "cell_type": "code",
   "execution_count": 11,
   "metadata": {},
   "outputs": [
    {
     "ename": "FileNotFoundError",
     "evalue": "[Errno 2] No such file or directory: 'Data2.csv'",
     "output_type": "error",
     "traceback": [
      "\u001b[1;31m---------------------------------------------------------------------------\u001b[0m",
      "\u001b[1;31mFileNotFoundError\u001b[0m                         Traceback (most recent call last)",
      "Cell \u001b[1;32mIn[11], line 11\u001b[0m\n\u001b[0;32m      1\u001b[0m time_data_dict \u001b[39m=\u001b[39m {  \u001b[39m# 2023년 6월 22일 부터 24일까지 5분 간격으로 태양 고도 방위각 데이터를 얻는 딕셔너리\u001b[39;00m\n\u001b[0;32m      2\u001b[0m \u001b[39m'\u001b[39m\u001b[39myear\u001b[39m\u001b[39m'\u001b[39m : \u001b[39m2022\u001b[39m,\n\u001b[0;32m      3\u001b[0m \u001b[39m'\u001b[39m\u001b[39mmonth\u001b[39m\u001b[39m'\u001b[39m : \u001b[39m6\u001b[39m,\n\u001b[1;32m   (...)\u001b[0m\n\u001b[0;32m      8\u001b[0m \u001b[39m'\u001b[39m\u001b[39msave_data_file_location\u001b[39m\u001b[39m'\u001b[39m: \u001b[39m'\u001b[39m\u001b[39mNew.csv\u001b[39m\u001b[39m'\u001b[39m,\n\u001b[0;32m      9\u001b[0m }\n\u001b[1;32m---> 11\u001b[0m save_solar_data_to_excel(\u001b[39m*\u001b[39;49m\u001b[39m*\u001b[39;49mtime_data_dict) \u001b[39m# 함수에 딕셔너리를 넣을 땐 앞에 ** 를 붙여줌\u001b[39;00m\n",
      "Cell \u001b[1;32mIn[10], line 13\u001b[0m, in \u001b[0;36msave_solar_data_to_excel\u001b[1;34m(year, month, start_day, end_day, step_sec, weather_data_file_location, save_data_file_location)\u001b[0m\n\u001b[0;32m     10\u001b[0m interpolate_num \u001b[39m=\u001b[39m one_hour_to_sec\u001b[39m/\u001b[39mstep_sec \u001b[39m-\u001b[39m \u001b[39m1\u001b[39m \n\u001b[0;32m     12\u001b[0m \u001b[39m# ------------------------------------------------------------------------- Data read \u001b[39;00m\n\u001b[1;32m---> 13\u001b[0m df_weather_data \u001b[39m=\u001b[39m pd\u001b[39m.\u001b[39;49mread_csv(weather_data_file_location, encoding\u001b[39m=\u001b[39;49m\u001b[39m'\u001b[39;49m\u001b[39mcp949\u001b[39;49m\u001b[39m'\u001b[39;49m)\n\u001b[0;32m     14\u001b[0m df_weather_data[\u001b[39m'\u001b[39m\u001b[39m일사(W/m2)\u001b[39m\u001b[39m'\u001b[39m] \u001b[39m=\u001b[39m df_weather_data[\u001b[39m'\u001b[39m\u001b[39m일사(MJ/m2)\u001b[39m\u001b[39m'\u001b[39m]\u001b[39m*\u001b[39mMJ2J\u001b[39m/\u001b[39mone_hour_to_sec  \u001b[39m# Insolation data 단위변경 \u001b[39;00m\n\u001b[0;32m     16\u001b[0m \u001b[39m# ------------------------------------------------------------------------- Data to list\u001b[39;00m\n",
      "File \u001b[1;32mc:\\Users\\Habin Jo\\anaconda3\\envs\\exergy_311\\Lib\\site-packages\\pandas\\util\\_decorators.py:211\u001b[0m, in \u001b[0;36mdeprecate_kwarg.<locals>._deprecate_kwarg.<locals>.wrapper\u001b[1;34m(*args, **kwargs)\u001b[0m\n\u001b[0;32m    209\u001b[0m     \u001b[39melse\u001b[39;00m:\n\u001b[0;32m    210\u001b[0m         kwargs[new_arg_name] \u001b[39m=\u001b[39m new_arg_value\n\u001b[1;32m--> 211\u001b[0m \u001b[39mreturn\u001b[39;00m func(\u001b[39m*\u001b[39;49margs, \u001b[39m*\u001b[39;49m\u001b[39m*\u001b[39;49mkwargs)\n",
      "File \u001b[1;32mc:\\Users\\Habin Jo\\anaconda3\\envs\\exergy_311\\Lib\\site-packages\\pandas\\util\\_decorators.py:331\u001b[0m, in \u001b[0;36mdeprecate_nonkeyword_arguments.<locals>.decorate.<locals>.wrapper\u001b[1;34m(*args, **kwargs)\u001b[0m\n\u001b[0;32m    325\u001b[0m \u001b[39mif\u001b[39;00m \u001b[39mlen\u001b[39m(args) \u001b[39m>\u001b[39m num_allow_args:\n\u001b[0;32m    326\u001b[0m     warnings\u001b[39m.\u001b[39mwarn(\n\u001b[0;32m    327\u001b[0m         msg\u001b[39m.\u001b[39mformat(arguments\u001b[39m=\u001b[39m_format_argument_list(allow_args)),\n\u001b[0;32m    328\u001b[0m         \u001b[39mFutureWarning\u001b[39;00m,\n\u001b[0;32m    329\u001b[0m         stacklevel\u001b[39m=\u001b[39mfind_stack_level(),\n\u001b[0;32m    330\u001b[0m     )\n\u001b[1;32m--> 331\u001b[0m \u001b[39mreturn\u001b[39;00m func(\u001b[39m*\u001b[39;49margs, \u001b[39m*\u001b[39;49m\u001b[39m*\u001b[39;49mkwargs)\n",
      "File \u001b[1;32mc:\\Users\\Habin Jo\\anaconda3\\envs\\exergy_311\\Lib\\site-packages\\pandas\\io\\parsers\\readers.py:950\u001b[0m, in \u001b[0;36mread_csv\u001b[1;34m(filepath_or_buffer, sep, delimiter, header, names, index_col, usecols, squeeze, prefix, mangle_dupe_cols, dtype, engine, converters, true_values, false_values, skipinitialspace, skiprows, skipfooter, nrows, na_values, keep_default_na, na_filter, verbose, skip_blank_lines, parse_dates, infer_datetime_format, keep_date_col, date_parser, dayfirst, cache_dates, iterator, chunksize, compression, thousands, decimal, lineterminator, quotechar, quoting, doublequote, escapechar, comment, encoding, encoding_errors, dialect, error_bad_lines, warn_bad_lines, on_bad_lines, delim_whitespace, low_memory, memory_map, float_precision, storage_options)\u001b[0m\n\u001b[0;32m    935\u001b[0m kwds_defaults \u001b[39m=\u001b[39m _refine_defaults_read(\n\u001b[0;32m    936\u001b[0m     dialect,\n\u001b[0;32m    937\u001b[0m     delimiter,\n\u001b[1;32m   (...)\u001b[0m\n\u001b[0;32m    946\u001b[0m     defaults\u001b[39m=\u001b[39m{\u001b[39m\"\u001b[39m\u001b[39mdelimiter\u001b[39m\u001b[39m\"\u001b[39m: \u001b[39m\"\u001b[39m\u001b[39m,\u001b[39m\u001b[39m\"\u001b[39m},\n\u001b[0;32m    947\u001b[0m )\n\u001b[0;32m    948\u001b[0m kwds\u001b[39m.\u001b[39mupdate(kwds_defaults)\n\u001b[1;32m--> 950\u001b[0m \u001b[39mreturn\u001b[39;00m _read(filepath_or_buffer, kwds)\n",
      "File \u001b[1;32mc:\\Users\\Habin Jo\\anaconda3\\envs\\exergy_311\\Lib\\site-packages\\pandas\\io\\parsers\\readers.py:605\u001b[0m, in \u001b[0;36m_read\u001b[1;34m(filepath_or_buffer, kwds)\u001b[0m\n\u001b[0;32m    602\u001b[0m _validate_names(kwds\u001b[39m.\u001b[39mget(\u001b[39m\"\u001b[39m\u001b[39mnames\u001b[39m\u001b[39m\"\u001b[39m, \u001b[39mNone\u001b[39;00m))\n\u001b[0;32m    604\u001b[0m \u001b[39m# Create the parser.\u001b[39;00m\n\u001b[1;32m--> 605\u001b[0m parser \u001b[39m=\u001b[39m TextFileReader(filepath_or_buffer, \u001b[39m*\u001b[39;49m\u001b[39m*\u001b[39;49mkwds)\n\u001b[0;32m    607\u001b[0m \u001b[39mif\u001b[39;00m chunksize \u001b[39mor\u001b[39;00m iterator:\n\u001b[0;32m    608\u001b[0m     \u001b[39mreturn\u001b[39;00m parser\n",
      "File \u001b[1;32mc:\\Users\\Habin Jo\\anaconda3\\envs\\exergy_311\\Lib\\site-packages\\pandas\\io\\parsers\\readers.py:1442\u001b[0m, in \u001b[0;36mTextFileReader.__init__\u001b[1;34m(self, f, engine, **kwds)\u001b[0m\n\u001b[0;32m   1439\u001b[0m     \u001b[39mself\u001b[39m\u001b[39m.\u001b[39moptions[\u001b[39m\"\u001b[39m\u001b[39mhas_index_names\u001b[39m\u001b[39m\"\u001b[39m] \u001b[39m=\u001b[39m kwds[\u001b[39m\"\u001b[39m\u001b[39mhas_index_names\u001b[39m\u001b[39m\"\u001b[39m]\n\u001b[0;32m   1441\u001b[0m \u001b[39mself\u001b[39m\u001b[39m.\u001b[39mhandles: IOHandles \u001b[39m|\u001b[39m \u001b[39mNone\u001b[39;00m \u001b[39m=\u001b[39m \u001b[39mNone\u001b[39;00m\n\u001b[1;32m-> 1442\u001b[0m \u001b[39mself\u001b[39m\u001b[39m.\u001b[39m_engine \u001b[39m=\u001b[39m \u001b[39mself\u001b[39;49m\u001b[39m.\u001b[39;49m_make_engine(f, \u001b[39mself\u001b[39;49m\u001b[39m.\u001b[39;49mengine)\n",
      "File \u001b[1;32mc:\\Users\\Habin Jo\\anaconda3\\envs\\exergy_311\\Lib\\site-packages\\pandas\\io\\parsers\\readers.py:1735\u001b[0m, in \u001b[0;36mTextFileReader._make_engine\u001b[1;34m(self, f, engine)\u001b[0m\n\u001b[0;32m   1733\u001b[0m     \u001b[39mif\u001b[39;00m \u001b[39m\"\u001b[39m\u001b[39mb\u001b[39m\u001b[39m\"\u001b[39m \u001b[39mnot\u001b[39;00m \u001b[39min\u001b[39;00m mode:\n\u001b[0;32m   1734\u001b[0m         mode \u001b[39m+\u001b[39m\u001b[39m=\u001b[39m \u001b[39m\"\u001b[39m\u001b[39mb\u001b[39m\u001b[39m\"\u001b[39m\n\u001b[1;32m-> 1735\u001b[0m \u001b[39mself\u001b[39m\u001b[39m.\u001b[39mhandles \u001b[39m=\u001b[39m get_handle(\n\u001b[0;32m   1736\u001b[0m     f,\n\u001b[0;32m   1737\u001b[0m     mode,\n\u001b[0;32m   1738\u001b[0m     encoding\u001b[39m=\u001b[39;49m\u001b[39mself\u001b[39;49m\u001b[39m.\u001b[39;49moptions\u001b[39m.\u001b[39;49mget(\u001b[39m\"\u001b[39;49m\u001b[39mencoding\u001b[39;49m\u001b[39m\"\u001b[39;49m, \u001b[39mNone\u001b[39;49;00m),\n\u001b[0;32m   1739\u001b[0m     compression\u001b[39m=\u001b[39;49m\u001b[39mself\u001b[39;49m\u001b[39m.\u001b[39;49moptions\u001b[39m.\u001b[39;49mget(\u001b[39m\"\u001b[39;49m\u001b[39mcompression\u001b[39;49m\u001b[39m\"\u001b[39;49m, \u001b[39mNone\u001b[39;49;00m),\n\u001b[0;32m   1740\u001b[0m     memory_map\u001b[39m=\u001b[39;49m\u001b[39mself\u001b[39;49m\u001b[39m.\u001b[39;49moptions\u001b[39m.\u001b[39;49mget(\u001b[39m\"\u001b[39;49m\u001b[39mmemory_map\u001b[39;49m\u001b[39m\"\u001b[39;49m, \u001b[39mFalse\u001b[39;49;00m),\n\u001b[0;32m   1741\u001b[0m     is_text\u001b[39m=\u001b[39;49mis_text,\n\u001b[0;32m   1742\u001b[0m     errors\u001b[39m=\u001b[39;49m\u001b[39mself\u001b[39;49m\u001b[39m.\u001b[39;49moptions\u001b[39m.\u001b[39;49mget(\u001b[39m\"\u001b[39;49m\u001b[39mencoding_errors\u001b[39;49m\u001b[39m\"\u001b[39;49m, \u001b[39m\"\u001b[39;49m\u001b[39mstrict\u001b[39;49m\u001b[39m\"\u001b[39;49m),\n\u001b[0;32m   1743\u001b[0m     storage_options\u001b[39m=\u001b[39;49m\u001b[39mself\u001b[39;49m\u001b[39m.\u001b[39;49moptions\u001b[39m.\u001b[39;49mget(\u001b[39m\"\u001b[39;49m\u001b[39mstorage_options\u001b[39;49m\u001b[39m\"\u001b[39;49m, \u001b[39mNone\u001b[39;49;00m),\n\u001b[0;32m   1744\u001b[0m )\n\u001b[0;32m   1745\u001b[0m \u001b[39massert\u001b[39;00m \u001b[39mself\u001b[39m\u001b[39m.\u001b[39mhandles \u001b[39mis\u001b[39;00m \u001b[39mnot\u001b[39;00m \u001b[39mNone\u001b[39;00m\n\u001b[0;32m   1746\u001b[0m f \u001b[39m=\u001b[39m \u001b[39mself\u001b[39m\u001b[39m.\u001b[39mhandles\u001b[39m.\u001b[39mhandle\n",
      "File \u001b[1;32mc:\\Users\\Habin Jo\\anaconda3\\envs\\exergy_311\\Lib\\site-packages\\pandas\\io\\common.py:856\u001b[0m, in \u001b[0;36mget_handle\u001b[1;34m(path_or_buf, mode, encoding, compression, memory_map, is_text, errors, storage_options)\u001b[0m\n\u001b[0;32m    851\u001b[0m \u001b[39melif\u001b[39;00m \u001b[39misinstance\u001b[39m(handle, \u001b[39mstr\u001b[39m):\n\u001b[0;32m    852\u001b[0m     \u001b[39m# Check whether the filename is to be opened in binary mode.\u001b[39;00m\n\u001b[0;32m    853\u001b[0m     \u001b[39m# Binary mode does not support 'encoding' and 'newline'.\u001b[39;00m\n\u001b[0;32m    854\u001b[0m     \u001b[39mif\u001b[39;00m ioargs\u001b[39m.\u001b[39mencoding \u001b[39mand\u001b[39;00m \u001b[39m\"\u001b[39m\u001b[39mb\u001b[39m\u001b[39m\"\u001b[39m \u001b[39mnot\u001b[39;00m \u001b[39min\u001b[39;00m ioargs\u001b[39m.\u001b[39mmode:\n\u001b[0;32m    855\u001b[0m         \u001b[39m# Encoding\u001b[39;00m\n\u001b[1;32m--> 856\u001b[0m         handle \u001b[39m=\u001b[39m \u001b[39mopen\u001b[39;49m(\n\u001b[0;32m    857\u001b[0m             handle,\n\u001b[0;32m    858\u001b[0m             ioargs\u001b[39m.\u001b[39;49mmode,\n\u001b[0;32m    859\u001b[0m             encoding\u001b[39m=\u001b[39;49mioargs\u001b[39m.\u001b[39;49mencoding,\n\u001b[0;32m    860\u001b[0m             errors\u001b[39m=\u001b[39;49merrors,\n\u001b[0;32m    861\u001b[0m             newline\u001b[39m=\u001b[39;49m\u001b[39m\"\u001b[39;49m\u001b[39m\"\u001b[39;49m,\n\u001b[0;32m    862\u001b[0m         )\n\u001b[0;32m    863\u001b[0m     \u001b[39melse\u001b[39;00m:\n\u001b[0;32m    864\u001b[0m         \u001b[39m# Binary mode\u001b[39;00m\n\u001b[0;32m    865\u001b[0m         handle \u001b[39m=\u001b[39m \u001b[39mopen\u001b[39m(handle, ioargs\u001b[39m.\u001b[39mmode)\n",
      "\u001b[1;31mFileNotFoundError\u001b[0m: [Errno 2] No such file or directory: 'Data2.csv'"
     ]
    }
   ],
   "source": [
    "time_data_dict = {  # 2023년 6월 22일 부터 24일까지 5분 간격으로 태양 고도 방위각 데이터를 얻는 딕셔너리\n",
    "'year' : 2022,\n",
    "'month' : 6,\n",
    "'start_day' : 22,\n",
    "'end_day' : 24,\n",
    "'step_sec': 5,\n",
    "'weather_data_file_location': '../data/Data.csv',\n",
    "'save_data_file_location': 'New.csv',\n",
    "}\n",
    "\n",
    "save_solar_data_to_excel(**time_data_dict) # 함수에 딕셔너리를 넣을 땐 앞에 ** 를 붙여줌"
   ]
  },
  {
   "cell_type": "code",
   "execution_count": null,
   "metadata": {},
   "outputs": [],
   "source": []
  }
 ],
 "metadata": {
  "kernelspec": {
   "display_name": "exergy_311",
   "language": "python",
   "name": "python3"
  },
  "language_info": {
   "codemirror_mode": {
    "name": "ipython",
    "version": 3
   },
   "file_extension": ".py",
   "mimetype": "text/x-python",
   "name": "python",
   "nbconvert_exporter": "python",
   "pygments_lexer": "ipython3",
   "version": "3.11.0"
  },
  "orig_nbformat": 4
 },
 "nbformat": 4,
 "nbformat_minor": 2
}
